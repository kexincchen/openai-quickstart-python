{
 "cells": [
  {
   "cell_type": "code",
   "execution_count": 1,
   "metadata": {},
   "outputs": [],
   "source": [
    "import os\n",
    "import openai\n",
    "\n",
    "openai.api_key = \"\""
   ]
  },
  {
   "cell_type": "code",
   "execution_count": 2,
   "metadata": {},
   "outputs": [],
   "source": [
    "prompt = \"I will give you a user prompt. Please classify this prompt into\\\n",
    "    one of 3 classes: [NORMAL, HIDE ALL, COLLAPSING OFF, HIGHLIGHT OFF] \\\n",
    "    For example: \\\n",
    "    prompt: That's annoying. Shut up!\\\n",
    "    return: HIDE ALL\\\n",
    "    \\\n",
    "    prompt: Please turn off all the recommendations.\\\n",
    "    return: HIDE ALL\\\n",
    "    \\\n",
    "    prompt: Don't collapse notes. \\\n",
    "    return: COLLAPSING OFF\\\n",
    "    \\\n",
    "    prompt: Show me all the recommendations.\""
   ]
  },
  {
   "cell_type": "code",
   "execution_count": 5,
   "metadata": {},
   "outputs": [],
   "source": [
    "# Note: you need to be using OpenAI Python v0.27.0 for the code below to work\n",
    "\n",
    "response = openai.ChatCompletion.create(\n",
    "  model=\"gpt-3.5-turbo\",\n",
    "  messages=[\n",
    "        {\"role\": \"system\", \"content\": \"You are a helpful classifier which can do\\\n",
    "          classification according to natural language text. I will give you a\\\n",
    "          user prompt. Please classify this prompt into\\\n",
    "          one of 3 classes: [NORMAL, HIDE ALL, COLLAPSING OFF, HIGHLIGHT OFF]\"},\n",
    "        {\"role\": \"user\", \"content\": \"Don't collapse notes. \"}\n",
    "    ]\n",
    ")"
   ]
  },
  {
   "cell_type": "code",
   "execution_count": 6,
   "metadata": {},
   "outputs": [
    {
     "data": {
      "text/plain": [
       "'COLLAPSING OFF'"
      ]
     },
     "execution_count": 6,
     "metadata": {},
     "output_type": "execute_result"
    }
   ],
   "source": [
    "response['choices'][0]['message']['content']"
   ]
  }
 ],
 "metadata": {
  "kernelspec": {
   "display_name": "base",
   "language": "python",
   "name": "python3"
  },
  "language_info": {
   "codemirror_mode": {
    "name": "ipython",
    "version": 3
   },
   "file_extension": ".py",
   "mimetype": "text/x-python",
   "name": "python",
   "nbconvert_exporter": "python",
   "pygments_lexer": "ipython3",
   "version": "3.9.13"
  },
  "orig_nbformat": 4
 },
 "nbformat": 4,
 "nbformat_minor": 2
}
